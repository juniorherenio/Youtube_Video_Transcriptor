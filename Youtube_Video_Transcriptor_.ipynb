{
  "cells": [
    {
      "cell_type": "markdown",
      "metadata": {
        "id": "view-in-github",
        "colab_type": "text"
      },
      "source": [
        "<a href=\"https://colab.research.google.com/github/juniorherenio/Youtube_Video_Transcriptor/blob/main/Youtube_Video_Transcriptor_.ipynb\" target=\"_parent\"><img src=\"https://colab.research.google.com/assets/colab-badge.svg\" alt=\"Open In Colab\"/></a>"
      ]
    },
    {
      "cell_type": "markdown",
      "id": "b5d9c80d",
      "metadata": {
        "id": "b5d9c80d"
      },
      "source": [
        "## <p style=\"text-align:center\" color=\"red\"><span style=\"color:red\">Youtube Video Transcriptor - updated</span></p>\n",
        "\n",
        "\n",
        "\n",
        "<table align=\"center\">\n",
        "  <td>\n",
        "    <a target=\"_blank\" href=\"https://colab.research.google.com/github/labrijisaad/Youtube-video-transcriptor\"><img src=\"https://www.tensorflow.org/images/colab_logo_32px.png\" />Run in Google Colab</a>\n",
        "  </td>\n",
        "</table>\n",
        "\n",
        "- **`This script is meant to be run in google colaboratory!`**\n",
        "- In order to optimize the transcription time, I updated the script using python threads 😋\n",
        "- This script can sometimes not detect text correctly, it's mainly due to noises or the way we speak in the video (speaking too fast or too slow)\n",
        "- The general idea summary model is a community model available at [Huggingface](https://huggingface.co/) , it can sometimes get the general idea wrong, especially if there is a lack of data.\n",
        "\n",
        "\n",
        "> 🙌 Notebook made by [@labriji_saad](https://github.com/labrijisaad)"
      ]
    },
    {
      "cell_type": "markdown",
      "id": "7641e4ac",
      "metadata": {
        "id": "7641e4ac"
      },
      "source": [
        "### Installing the requirements"
      ]
    },
    {
      "cell_type": "code",
      "execution_count": null,
      "id": "fcf14904",
      "metadata": {
        "id": "fcf14904"
      },
      "outputs": [],
      "source": [
        "%%capture\n",
        "\n",
        "!pip install --upgrade yt_dlp\n",
        "!pip install pydub SpeechRecognition ffmpeg ffprobe googletrans==3.1.0a0 transformers"
      ]
    },
    {
      "cell_type": "code",
      "execution_count": null,
      "id": "e9dd935c",
      "metadata": {
        "id": "e9dd935c"
      },
      "outputs": [],
      "source": [
        "import yt_dlp\n",
        "import time\n",
        "import re\n",
        "import os\n",
        "from pydub import AudioSegment\n",
        "import speech_recognition as sr\n",
        "import math\n",
        "from tqdm import tqdm\n",
        "from googletrans import Translator\n",
        "from threading import Thread"
      ]
    },
    {
      "cell_type": "markdown",
      "id": "6eb09a2b",
      "metadata": {
        "id": "6eb09a2b"
      },
      "source": [
        "### Downloading the audio (`url = video_link`)\n",
        "> - Specify here the link of the video you want to transcribe."
      ]
    },
    {
      "cell_type": "code",
      "execution_count": null,
      "id": "18ccbef7",
      "metadata": {
        "id": "18ccbef7"
      },
      "outputs": [],
      "source": [
        "url = \"https://www.youtube.com/watch?v=IErvIekMD3U&t=1545s&ab_channel=Mrwhosetheboss\""
      ]
    },
    {
      "cell_type": "code",
      "execution_count": null,
      "id": "d5f80175",
      "metadata": {
        "colab": {
          "base_uri": "https://localhost:8080/"
        },
        "id": "d5f80175",
        "outputId": "22c3b5de-ee38-4853-8974-501799dc49b9"
      },
      "outputs": [
        {
          "name": "stdout",
          "output_type": "stream",
          "text": [
            "[youtube] IErvIekMD3U: Downloading webpage\n",
            "[youtube] IErvIekMD3U: Downloading android player API JSON\n",
            "[youtube] IErvIekMD3U: Downloading webpage\n",
            "[youtube] IErvIekMD3U: Downloading android player API JSON\n",
            "[info] IErvIekMD3U: Downloading 1 format(s): 140\n",
            "[download] Destination: ./19 TOXIC Tech Fails that will last Forever..wav\n",
            "[download] 100% of 27.07MiB in 00:00                   \n",
            "[FixupM4a] Correcting container of \"./19 TOXIC Tech Fails that will last Forever..wav\"\n",
            "[ExtractAudio] Destination: ./19 TOXIC Tech Fails that will last Forever..wav\n",
            "Deleting original file ./19 TOXIC Tech Fails that will last Forever..orig.wav (pass -k to keep)\n"
          ]
        }
      ],
      "source": [
        "ydl_opts={}\n",
        "\n",
        "with yt_dlp.YoutubeDL(ydl_opts) as ydl:\n",
        "        info_dict = ydl.extract_info(url, download=False)\n",
        "video_title = info_dict['title']\n",
        "video_name = re.sub('[\\\\\\\\/*?:\"<>|]', '', video_title)\n",
        "name = video_name\n",
        "ydl_opts = {\n",
        "     'format': 'm4a/bestaudio/best',\n",
        "         'noplaylist': True,\n",
        "         'continue_dl': True,\n",
        "         'outtmpl': f'./{name}.wav',\n",
        "         'postprocessors': [{\n",
        "             'key': 'FFmpegExtractAudio',\n",
        "             'preferredcodec': 'wav',\n",
        "             'preferredquality': '192',\n",
        "         }],\n",
        "         'geobypass':True,\n",
        "         'ffmpeg_location':'/usr/bin/ffmpeg'\n",
        " }\n",
        "\n",
        "with yt_dlp.YoutubeDL(ydl_opts) as ydl:\n",
        "     error_code = ydl.download(url)"
      ]
    },
    {
      "cell_type": "markdown",
      "id": "b147c9ba",
      "metadata": {
        "id": "b147c9ba"
      },
      "source": [
        "### Spliting the audio (`min_per_split = 1`)\n",
        "> - When it comes to using the free version of Google's transcriber (**`speech_recognition`**), there is a limit on the length of the video (or audio) that should not be exceeded (this limit is around 5 minutes ). To remedy this problem, the following script splits the video into one minute long intervals and puts the generated mini-videos in a directory that has a name in the form of **`split files for: Video_Name.wav`**"
      ]
    },
    {
      "cell_type": "code",
      "execution_count": null,
      "id": "d48a25ae",
      "metadata": {
        "id": "d48a25ae"
      },
      "outputs": [],
      "source": [
        "class SplitWavAudioMubin():\n",
        "    def __init__(self, folder, filename):\n",
        "        self.folder = folder\n",
        "        self.filename = filename\n",
        "        self.filepath = folder + filename\n",
        "        self.audio = AudioSegment.from_wav(self.filepath)\n",
        "\n",
        "    def get_duration(self):\n",
        "        return self.audio.duration_seconds\n",
        "\n",
        "    def single_split(self, from_min, to_min, split_filename):\n",
        "        t1 = from_min * 60 * 1000\n",
        "        t2 = to_min * 60 * 1000\n",
        "        split_audio = self.audio[t1:t2]\n",
        "        split_audio.export(split_filename, format=\"wav\")\n",
        "\n",
        "    def multiple_split(self, min_per_split):\n",
        "        total_mins = math.ceil(self.get_duration() / 60)\n",
        "        for i in range(0, total_mins, min_per_split):\n",
        "            split_fn = str(i) + '_' + self.filename\n",
        "            self.single_split(i, i+min_per_split, split_fn)\n",
        "            if i == total_mins - min_per_split:\n",
        "                print('All splited successfully')\n",
        "        print('>>> Video duration: ' + str(self.get_duration()))\n",
        "\n",
        "def split_audio(file_name):\n",
        "    directory = \"splitted files for: \" + file_name\n",
        "    os.mkdir(directory)\n",
        "    os.chdir(directory)\n",
        "    split_wav = SplitWavAudioMubin(\"../\", file_name)\n",
        "    split_wav.multiple_split(min_per_split=1)"
      ]
    },
    {
      "cell_type": "code",
      "execution_count": null,
      "id": "b98e9a78",
      "metadata": {
        "colab": {
          "base_uri": "https://localhost:8080/"
        },
        "id": "b98e9a78",
        "outputId": "8f058933-c4df-4cf8-efad-095a93d48bf6"
      },
      "outputs": [
        {
          "name": "stdout",
          "output_type": "stream",
          "text": [
            "All splited successfully\n",
            ">>> Video duration: 1754.128253968254\n"
          ]
        }
      ],
      "source": [
        "file_name = \"{}.wav\".format(video_name)\n",
        "split_audio(file_name)"
      ]
    },
    {
      "cell_type": "markdown",
      "id": "e4a1ca8d",
      "metadata": {
        "id": "e4a1ca8d"
      },
      "source": [
        "### Recognizing the text (` language = \"en-US\"`) https://cloud.google.com/speech-to-text/docs/languages\n",
        "> - To perform text detection, we must first specify the language spoken in the video. To do this, we must search for the keyword equivalent to language in the language catalog available in the link on the title. ( In our case, it's **`English`** so the keyword is **`en-US`** )"
      ]
    },
    {
      "cell_type": "code",
      "execution_count": null,
      "id": "94b639b9",
      "metadata": {
        "colab": {
          "base_uri": "https://localhost:8080/"
        },
        "id": "94b639b9",
        "outputId": "504cca88-411c-4da0-b8d8-cf7787a4bb20"
      },
      "outputs": [
        {
          "data": {
            "text/plain": [
              "['./0_19 TOXIC Tech Fails that will last Forever..wav',\n",
              " './1_19 TOXIC Tech Fails that will last Forever..wav',\n",
              " './2_19 TOXIC Tech Fails that will last Forever..wav',\n",
              " './3_19 TOXIC Tech Fails that will last Forever..wav',\n",
              " './4_19 TOXIC Tech Fails that will last Forever..wav',\n",
              " './5_19 TOXIC Tech Fails that will last Forever..wav',\n",
              " './6_19 TOXIC Tech Fails that will last Forever..wav',\n",
              " './7_19 TOXIC Tech Fails that will last Forever..wav',\n",
              " './8_19 TOXIC Tech Fails that will last Forever..wav',\n",
              " './9_19 TOXIC Tech Fails that will last Forever..wav',\n",
              " './10_19 TOXIC Tech Fails that will last Forever..wav',\n",
              " './11_19 TOXIC Tech Fails that will last Forever..wav',\n",
              " './12_19 TOXIC Tech Fails that will last Forever..wav',\n",
              " './13_19 TOXIC Tech Fails that will last Forever..wav',\n",
              " './14_19 TOXIC Tech Fails that will last Forever..wav',\n",
              " './15_19 TOXIC Tech Fails that will last Forever..wav',\n",
              " './16_19 TOXIC Tech Fails that will last Forever..wav',\n",
              " './17_19 TOXIC Tech Fails that will last Forever..wav',\n",
              " './18_19 TOXIC Tech Fails that will last Forever..wav',\n",
              " './19_19 TOXIC Tech Fails that will last Forever..wav',\n",
              " './20_19 TOXIC Tech Fails that will last Forever..wav',\n",
              " './21_19 TOXIC Tech Fails that will last Forever..wav',\n",
              " './22_19 TOXIC Tech Fails that will last Forever..wav',\n",
              " './23_19 TOXIC Tech Fails that will last Forever..wav',\n",
              " './24_19 TOXIC Tech Fails that will last Forever..wav',\n",
              " './25_19 TOXIC Tech Fails that will last Forever..wav',\n",
              " './26_19 TOXIC Tech Fails that will last Forever..wav',\n",
              " './27_19 TOXIC Tech Fails that will last Forever..wav',\n",
              " './28_19 TOXIC Tech Fails that will last Forever..wav',\n",
              " './29_19 TOXIC Tech Fails that will last Forever..wav']"
            ]
          },
          "execution_count": 40,
          "metadata": {},
          "output_type": "execute_result"
        }
      ],
      "source": [
        "search_dir = \"./\"\n",
        "files = filter(os.path.isfile, os.listdir(search_dir))\n",
        "files = [os.path.join(search_dir, f) for f in files] # add path to each file\n",
        "files.sort(key=lambda x: os.path.getmtime(x))\n",
        "files"
      ]
    },
    {
      "cell_type": "code",
      "execution_count": null,
      "id": "6lrI0q5cJqex",
      "metadata": {
        "id": "6lrI0q5cJqex"
      },
      "outputs": [],
      "source": [
        "def speech_recognizer(files, frames, i):  ## This function recognizes speech in our WAV files\n",
        "    texts = []\n",
        "    recognizer = sr.Recognizer()\n",
        "\n",
        "    for file in tqdm(files):\n",
        "        with sr.AudioFile(file) as source:\n",
        "            recorded_audio = recognizer.listen(source)\n",
        "        try:\n",
        "            text = recognizer.recognize_google(\n",
        "                recorded_audio,\n",
        "                language=\"en-US\"  ## Replace with language keyword\n",
        "            )\n",
        "            texts.append(text)\n",
        "        except Exception as ex:\n",
        "            print(ex)\n",
        "    result = \"\"\n",
        "    for text in texts:\n",
        "        result += \" \" + text\n",
        "    frames[i] = result\n",
        "    return result\n",
        "\n",
        "def split_files(files, n_batches): ## This function split the files evenly between the threads we have.\n",
        "    k, m = divmod(len(files), n_batches)\n",
        "    return list(files[i*k+min(i, m):(i+1)*k+min(i+1, m)] for i in range(n_batches))\n",
        "\n",
        "def main(n_batches=8, verbose=True): ## By default, the maximum capacity of threads supported in collab is 8\n",
        "    threads = [None]*n_batches\n",
        "    frames = [None]*n_batches\n",
        "    batches = split_files(files, n_batches)\n",
        "    start = 0\n",
        "    for i in range(len(batches)):\n",
        "        if i>0:\n",
        "            start_index=len(batches[i-1])\n",
        "        else:\n",
        "            start_index = 0\n",
        "        t = Thread(target=speech_recognizer, args=(batches[i], frames, i))\n",
        "        threads[i] = t\n",
        "        t.start()\n",
        "    for t in threads:\n",
        "        t.join()\n",
        "    return frames"
      ]
    },
    {
      "cell_type": "code",
      "execution_count": null,
      "id": "Mr-GZ1hbHSrZ",
      "metadata": {
        "colab": {
          "base_uri": "https://localhost:8080/"
        },
        "id": "Mr-GZ1hbHSrZ",
        "outputId": "ca055cc6-b737-4b38-8f0c-ffc8338d3ca1"
      },
      "outputs": [
        {
          "name": "stderr",
          "output_type": "stream",
          "text": [
            "  0%|          | 0/4 [00:00<?, ?it/s]\n",
            "  0%|          | 0/4 [00:00<?, ?it/s]\u001b[A\n",
            "\n",
            "\n",
            "  0%|          | 0/4 [00:00<?, ?it/s]\u001b[A\u001b[A\u001b[A\n",
            "\n",
            "  0%|          | 0/4 [00:00<?, ?it/s]\u001b[A\u001b[A\n",
            "\n",
            "\n",
            "\n",
            "\n",
            "  0%|          | 0/3 [00:00<?, ?it/s]\u001b[A\u001b[A\u001b[A\u001b[A\u001b[A\n",
            "\n",
            "\n",
            "\n",
            "  0%|          | 0/4 [00:00<?, ?it/s]\u001b[A\u001b[A\u001b[A\u001b[A\n",
            "\n",
            "\n",
            "\n",
            "\n",
            "\n",
            "  0%|          | 0/4 [00:00<?, ?it/s]\u001b[A\u001b[A\u001b[A\u001b[A\u001b[A\u001b[A\n",
            "\n",
            "\n",
            "\n",
            "\n",
            "\n",
            "\n",
            "  0%|          | 0/3 [00:00<?, ?it/s]\u001b[A\u001b[A\u001b[A\u001b[A\u001b[A\u001b[A\u001b[A\n",
            " 25%|██▌       | 1/4 [00:07<00:23,  7.79s/it]\n",
            "\n",
            "\n",
            "\n",
            "\n",
            "\n",
            " 25%|██▌       | 1/4 [00:07<00:22,  7.56s/it]\u001b[A\u001b[A\u001b[A\u001b[A\u001b[A\u001b[A\n",
            "\n",
            "\n",
            "\n",
            "\n",
            "\n",
            "\n",
            " 33%|███▎      | 1/3 [00:07<00:15,  7.89s/it]\u001b[A\u001b[A\u001b[A\u001b[A\u001b[A\u001b[A\u001b[A\n",
            "\n",
            "\n",
            " 25%|██▌       | 1/4 [00:08<00:26,  8.75s/it]\u001b[A\u001b[A\u001b[A\n",
            "\n",
            "\n",
            "\n",
            "\n",
            " 33%|███▎      | 1/3 [00:08<00:17,  8.85s/it]\u001b[A\u001b[A\u001b[A\u001b[A\u001b[A\n",
            "\n",
            " 25%|██▌       | 1/4 [00:08<00:26,  8.95s/it]\u001b[A\u001b[A\n",
            "\n",
            "\n",
            "\n",
            " 25%|██▌       | 1/4 [00:09<00:27,  9.28s/it]\u001b[A\u001b[A\u001b[A\u001b[A\n",
            "\n",
            "\n",
            "\n",
            "\n",
            "\n",
            "\n",
            " 67%|██████▋   | 2/3 [00:15<00:07,  7.54s/it]\u001b[A\u001b[A\u001b[A\u001b[A\u001b[A\u001b[A\u001b[A\n",
            "\n",
            " 50%|█████     | 2/4 [00:15<00:15,  7.62s/it]\u001b[A\u001b[A\n",
            " 50%|█████     | 2/4 [00:16<00:16,  8.14s/it]\n",
            "\n",
            "\n",
            " 50%|█████     | 2/4 [00:16<00:16,  8.16s/it]\u001b[A\u001b[A\u001b[A\n",
            "\n",
            "\n",
            "\n",
            "\n",
            "\n",
            " 50%|█████     | 2/4 [00:16<00:16,  8.23s/it]\u001b[A\u001b[A\u001b[A\u001b[A\u001b[A\u001b[A\n",
            "\n",
            "\n",
            "\n",
            "\n",
            " 67%|██████▋   | 2/3 [00:16<00:08,  8.37s/it]\u001b[A\u001b[A\u001b[A\u001b[A\u001b[A\n",
            "\n",
            "\n",
            "\n",
            "\n",
            "\n",
            "\n",
            "100%|██████████| 3/3 [00:17<00:00,  5.97s/it]\n",
            "\n",
            "\n",
            "\n",
            "\n",
            " 50%|█████     | 2/4 [00:18<00:18,  9.48s/it]\u001b[A\u001b[A\u001b[A\u001b[A\n",
            " 75%|███████▌  | 3/4 [00:23<00:08,  8.40s/it]\u001b[A\n",
            "\n",
            "\n",
            " 75%|███████▌  | 3/4 [00:23<00:07,  7.71s/it]\u001b[A\u001b[A\u001b[A\n",
            "\n",
            " 75%|███████▌  | 3/4 [00:23<00:07,  7.84s/it]\u001b[A\u001b[A\n",
            "\n",
            "\n",
            "\n",
            "\n",
            "\n",
            " 75%|███████▌  | 3/4 [00:24<00:08,  8.42s/it]\n",
            "\n",
            "\n",
            "\n",
            " 75%|███████▌  | 3/4 [00:24<00:07,  7.81s/it]\u001b[A\u001b[A\u001b[A\u001b[A\n",
            "\n",
            "\n",
            "\n",
            "\n",
            "100%|██████████| 3/3 [00:24<00:00,  8.30s/it]\n",
            "\n",
            "\n",
            "\n",
            "\n",
            "\n",
            "\n",
            "100%|██████████| 4/4 [00:25<00:00,  6.39s/it]\n",
            "\n",
            "\n",
            "\n",
            "100%|██████████| 4/4 [00:31<00:00,  7.82s/it]\n",
            "\n",
            "\n",
            "\n",
            "\n",
            "100%|██████████| 4/4 [00:31<00:00,  7.85s/it]\n",
            "\n",
            "100%|██████████| 4/4 [00:31<00:00,  7.94s/it]\n",
            "\n",
            "\n",
            "100%|██████████| 4/4 [00:31<00:00,  7.92s/it]\n",
            "100%|██████████| 4/4 [00:33<00:00,  8.30s/it]"
          ]
        },
        {
          "name": "stdout",
          "output_type": "stream",
          "text": [
            "[\" prepare yourself in 19 old-time from space of bad ideas that's completely misunderstood readers like what kind of newspaper in the morning but then think oh wait no bikes that you could offer a complete t3micro by movement and one that you be able to stick to any surface you wanted extra special rubberized material on the back they come up with feel like these highly optimized human beings by bulky cumbersome glasses temples is\", \" everyone dream watch my videos right in the beginning you might know that I built this by filming on an Ikea table for simple reason they have a business model is that what issue was the Ikea forgot the simple fact that hair dryers blow out hot air and the plastic melts see where I'm going with this don't say that the attack wasn't clever essentially disclosure has an ultrasound speaker inside of it which comparative Soundwave you mount them\", \" quite quickly lost interest in spending time with buried in the cupboard 10sp Enright your phone is the dumbest effing idea I've ever heard people who specifically searching for both example because when no one knows who you are people become the most extreme versions of themselves\", \" we're talking serious even dangerously big sales electric cars right now makes call single toughest Market when you coming to enter but without clear communication with that customer and not deliver the single-car 7 million views and departments Kickstarter campaign past its funding goal in just get this 24 hours but then something that in one frame of this trailer if you do the doing it wrong or at least you are according to the laser razor company in 2015 the Steve the people released a video saying shaving as we know it\", \" tremendously bad product that nobody needed and hey if you like being told with tech products to definitely which penguin is real money is that's going to get that money from somewhere and so is the number of uses the app just couldn't keep up with the funding and 100,000. Microsoft correctly predicted the gaming with a huge and growing markets I think the whole idea was to basically make something of his just like twitch resume paid piles of cash to go to keep the money and would then free to go back to push again 6 out of 1000\", \" allowing the capacitor to overtake them in what methods video quality this number for I was not expecting to put this high up on the list. probably would you have to use your PC or you would lose them I mean what someone else's phone with seeing and hearing\", \" one party that I'm glad I wasn't invited too but also invested in a squid game-themed cryptocurrency and you probably never seen anything like the Fallout that came after this within 5 minutes 5 minutes 20.000 79 cryptocurrencies and how they take power away from the banks and given to the people but she felt like the Cardinals leading crypto Bitcoin just wasn't quite right so came up with one point better and easier to use a revolution\", \" 2017 she was meant to be on stage speaking in Lisbon and she just didn't show up no one seen her since because it turns out that one coin and the people she'd hired which is actually iOS and as a result you couldn't actually use one coin to buy anything Mike mattock fails that videotape biggest text that you've ever seen your entire life\"]\n",
            "Runtime of the transcription  is 33.22988963127136 second\n"
          ]
        },
        {
          "name": "stderr",
          "output_type": "stream",
          "text": [
            "\n"
          ]
        }
      ],
      "source": [
        "if __name__ == \"__main__\":\n",
        "    frames = main()"
      ]
    },
    {
      "cell_type": "markdown",
      "id": "d0520c0b",
      "metadata": {
        "id": "d0520c0b"
      },
      "source": [
        "### Saving the recognized text\n",
        "> - After performing the speech detection, we save the resulting text in a file which is in the form of **`Transcription_Video_Name.txt`**"
      ]
    },
    {
      "cell_type": "code",
      "execution_count": null,
      "id": "93bbf762",
      "metadata": {
        "id": "93bbf762"
      },
      "outputs": [],
      "source": [
        "result = \"\"\n",
        "for text in frames:\n",
        "    result += \" \" + text\n",
        "\n",
        "os.chdir(\"../\")\n",
        "text_file = open(\"Transcription_\"+ file_name[:-4] +\".txt\", \"w\")\n",
        "text_file.write(result)\n",
        "text_file.close()"
      ]
    },
    {
      "cell_type": "code",
      "execution_count": null,
      "id": "af37d4c7",
      "metadata": {
        "id": "af37d4c7"
      },
      "outputs": [],
      "source": [
        "result"
      ]
    },
    {
      "cell_type": "markdown",
      "id": "8ffd76e2",
      "metadata": {
        "id": "8ffd76e2"
      },
      "source": [
        "### Translating the recognized text (`dest='fr'`)\n",
        "> - In addition, we have tried here to translate the text into French after transcription, using the Google API (**`googletrans`**)\n",
        "> - To correctly use this API, we must replace the dest variable with the output language keyword ( In our case, **`dest='fr'`**)"
      ]
    },
    {
      "cell_type": "code",
      "execution_count": null,
      "id": "4941c385",
      "metadata": {
        "colab": {
          "base_uri": "https://localhost:8080/"
        },
        "id": "4941c385",
        "outputId": "05309fbf-b08c-4536-f126-048a888cb251"
      },
      "outputs": [
        {
          "name": "stdout",
          "output_type": "stream",
          "text": [
            " préparez-vous à 19 ans à partir de l'espace des mauvaises idées c'est des lecteurs complètement incompris comme quel genre de journal le matin mais ensuite pensez oh attendez non vélos que vous pourriez offrir un t3micro complet par mouvement et que vous puissiez coller sur n'importe quelle surface que vous vouliez matériau caoutchouté spécial supplémentaire à l'arrière ils viennent avec l'impression que ces êtres humains hautement optimisés par des tempes de lunettes encombrantes et encombrantes sont tout le monde rêve regardez mes vidéos dès le début, vous savez peut-être que j'ai construit cela en filmant sur une table Ikea pour la simple raison qu'ils ont un modèle commercial, c'est que quel problème était l'Ikea ​​a oublié le simple fait que les sèche-cheveux soufflent de l'air chaud et que le plastique fond voir où je veux en venir ne dites pas que l'attaque n'était pas intelligente, essentiellement la divulgation a un haut-parleur à ultrasons à l'intérieur de laquelle Soundwave comparatif vous les montez assez rapidement perdu l'intérêt de passer du temps avec enterré dans le placard 10sp Enright ton téléphone est l'idée la plus stupide que j'aie jamais entendue les personnes qui recherchent spécifiquement les deux exemple parce que quand personne ne sait qui vous êtes, les gens deviennent les versions les plus extrêmes d'eux-mêmes nous parlons de voitures électriques sérieuses voire dangereusement grosses en ce moment rend l'appel unique sur le marché le plus difficile lorsque vous venez d'entrer mais sans communication claire avec ce client et ne livre pas la voiture unique 7 millions de vues et de départements La campagne Kickstarter a dépassé son objectif de financement en seulement 24 heures, mais ensuite quelque chose dans une image de cette bande-annonce si vous le faites mal ou du moins selon la société de rasoirs laser en 2015, Steve les gens ont publié une vidéo disant le rasage tel que nous le connaissons produit extrêmement mauvais dont personne n'avait besoin et bon si vous aimez qu'on vous dise avec des produits technologiques de définitivement quel pingouin est de l'argent réel, c'est qu'il va obtenir cet argent de quelque part, de même que le nombre d'utilisations que l'application n'a tout simplement pas pu suivre avec le financement et 100 000. Microsoft a correctement prédit le jeu avec un marché énorme et en croissance, je pense que l'idée était de faire quelque chose de lui, tout comme twitch reprendre des tas d'argent payés pour aller garder l'argent et serait ensuite libre de revenir en arrière pour pousser à nouveau 6 sur 1000 permettant au condensateur de les dépasser dans quelles méthodes qualité vidéo ce numéro car je ne m'attendais pas à mettre ce haut sur la liste. devriez-vous probablement utiliser votre PC ou vous les perdriez, je veux dire ce que le téléphone de quelqu'un d'autre voit et entend une fête à laquelle je suis content de ne pas avoir été invité aussi mais aussi d'avoir investi dans une crypto-monnaie sur le thème du jeu de calamars et vous n'avez probablement jamais rien vu de tel que Fallout qui est venu après cela dans les 5 minutes 5 minutes 20.000 79 les crypto-monnaies et la façon dont elles retirent le pouvoir aux banques et le donnent au peuple, mais elle avait l'impression que les cardinaux menant le crypto Bitcoin n'étaient tout simplement pas tout à fait corrects, alors ils ont trouvé un point meilleur et plus facile à utiliser une révolution 2017, elle était censée parler sur scène à Lisbonne et elle ne s'est tout simplement pas présentée, personne ne l'a vue depuis, car il s'avère qu'une pièce et les personnes qu'elle avait embauchées qui est en fait iOS et par conséquent, vous ne pouvez pas utiliser une seule pièce pour acheter quoi que ce soit Mike mattock échoue sur cette bande vidéo, le plus gros texte que vous ayez jamais vu de toute votre vie\n"
          ]
        }
      ],
      "source": [
        "translator = Translator()\n",
        "\n",
        "translate_text = \"\"\n",
        "for text in frames:\n",
        "    translate_text += \" \" + translator.translate(text, dest='fr').text\n",
        "print(translate_text)"
      ]
    },
    {
      "cell_type": "markdown",
      "id": "da84013a",
      "metadata": {
        "id": "da84013a"
      },
      "source": [
        "### Saving the translated text\n",
        "> - We save the resulting translated text in a file which is in the form of **`Transcription_translated_Video_Name.txt`**"
      ]
    },
    {
      "cell_type": "code",
      "execution_count": null,
      "id": "81ac63a6",
      "metadata": {
        "id": "81ac63a6"
      },
      "outputs": [],
      "source": [
        "text_file = open(\"Transcription_translated_\"+ file_name[:-4] +\".txt\", \"w\")\n",
        "text_file.write(translate_text)\n",
        "text_file.close()"
      ]
    },
    {
      "cell_type": "markdown",
      "id": "7849eb8b",
      "metadata": {
        "id": "7849eb8b"
      },
      "source": [
        "### General Idea summarization\n",
        "> - Finally, we can use the text we have recovered to have a summary of the general idea discussed in the video\n",
        "> - Here it is necessary to specify the **`max_length`** and the **`min_length`**, by default we have chosen that the length of the general idea of a text must be at least 10% of the total length of the text."
      ]
    },
    {
      "cell_type": "code",
      "execution_count": null,
      "id": "aefb7c79",
      "metadata": {
        "id": "aefb7c79"
      },
      "outputs": [],
      "source": [
        "from transformers import pipeline\n",
        "summarizer = pipeline(\"summarization\", model=\"facebook/bart-large-cnn\")"
      ]
    },
    {
      "cell_type": "code",
      "execution_count": null,
      "id": "b22e43d9",
      "metadata": {
        "colab": {
          "base_uri": "https://localhost:8080/"
        },
        "id": "b22e43d9",
        "outputId": "433a8a59-aba1-4225-ae3e-f700086fb39f"
      },
      "outputs": [
        {
          "name": "stdout",
          "output_type": "stream",
          "text": [
            "I built this by filming on an Ikea table for simple reason they have a business model is that what issue was the Ikea forgot the simple fact that hair dryers blow out hot air and the plastic melts. Microsoft correctly predicted the gaming with a huge and growing markets. Mike mattock fails that videotape biggest text that you've ever seen your entire life.\n"
          ]
        }
      ],
      "source": [
        "ARTICLE = result\n",
        "summary_text = summarizer(ARTICLE, max_length=100, min_length=int(len(result.split(\" \"))/10), do_sample=False)[0][\"summary_text\"]\n",
        "print(summary_text)"
      ]
    },
    {
      "cell_type": "markdown",
      "id": "4a332562",
      "metadata": {
        "id": "4a332562"
      },
      "source": [
        "> - 🙌 Notebook made by [@labriji_saad](https://github.com/labrijisaad)\n",
        "> - 🔗 Linledin [@labriji_saad](https://www.linkedin.com/in/labrijisaad/)"
      ]
    },
    {
      "cell_type": "code",
      "execution_count": null,
      "id": "Gu3LiJ30OERj",
      "metadata": {
        "id": "Gu3LiJ30OERj"
      },
      "outputs": [],
      "source": []
    }
  ],
  "metadata": {
    "colab": {
      "provenance": [],
      "include_colab_link": true
    },
    "kernelspec": {
      "display_name": "Python 3 (ipykernel)",
      "language": "python",
      "name": "python3"
    },
    "language_info": {
      "codemirror_mode": {
        "name": "ipython",
        "version": 3
      },
      "file_extension": ".py",
      "mimetype": "text/x-python",
      "name": "python",
      "nbconvert_exporter": "python",
      "pygments_lexer": "ipython3",
      "version": "3.9.7"
    }
  },
  "nbformat": 4,
  "nbformat_minor": 5
}